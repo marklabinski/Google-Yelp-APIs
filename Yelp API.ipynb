{
 "cells": [
  {
   "cell_type": "markdown",
   "metadata": {},
   "source": [
    "## Yelp API Functions"
   ]
  },
  {
   "cell_type": "markdown",
   "metadata": {},
   "source": [
    "Some helpful API documentation links:\n",
    "https://www.yelp.com/developers/documentation/v3/business_search\n",
    "    \n",
    "https://www.yelp.com/developers/documentation/v3/transaction_search\n",
    "\n",
    "https://www.yelp.com/developers/documentation/v3/business"
   ]
  },
  {
   "cell_type": "markdown",
   "metadata": {},
   "source": [
    "Define function that accepts lat/lon and returs search parameter dictionary. Then, build API call. Using codes from API access page, create an OAuth session. Then, make an API call using our search paramenters. Finall, take that data and put it into a Python dictionary"
   ]
  },
  {
   "cell_type": "code",
   "execution_count": 1,
   "metadata": {},
   "outputs": [],
   "source": [
    "import rauth\n",
    "import time\n",
    "\n",
    "def main():\n",
    "    locations = [(39.98,-82.98),(42.24,-83.61),(41.33,-89.13)]\n",
    "    api_calls = []\n",
    "    for lat,long in locations:\n",
    "        params = get_search_parameters(lat,long)\n",
    "        api_calls.append(get_results(params))\n",
    "        #Be a good internet citizen and rate-limit yourself\n",
    "        time.sleep(1.0)\n",
    "        \n",
    "    ##Do other processing\n",
    "\n",
    "def get_results(params):\n",
    "\n",
    "    #Obtain these from Yelp's manage access page\n",
    "    consumer_key = \"YOUR_KEY\"\n",
    "    consumer_secret = \"YOUR_SECRET\"\n",
    "    token = \"YOUR_TOKEN\"\n",
    "    token_secret = \"YOUR_TOKEN_SECRET\"\n",
    "    \n",
    "    session = rauth.OAuth1Session(\n",
    "    consumer_key = consumer_key\n",
    "        ,consumer_secret = consumer_secret\n",
    "        ,access_token = token\n",
    "        ,access_token_secret = token_secret)\n",
    "\n",
    "    request = session.get(\"http://api.yelp.com/v2/search\",params=params)\n",
    "    \n",
    "    #Transforms the JSON API response into a Python dictionary\n",
    "    data = request.json()\n",
    "    session.close()\n",
    "    \n",
    "    return data\n",
    "\n",
    "def get_search_parameters(lat,long):\n",
    "    #See the Yelp API for more details\n",
    "    params = {}\n",
    "    params[\"term\"] = \"restaurant\"\n",
    "    params[\"ll\"] = \"{},{}\".format(str(lat),str(long))\n",
    "    params[\"radius_filter\"] = \"2000\"\n",
    "    params[\"limit\"] = \"10\"\n",
    "    \n",
    "    return params\n",
    "\n",
    "if __name__==\"__main__\":\n",
    "    main()"
   ]
  }
 ],
 "metadata": {
  "kernelspec": {
   "display_name": "Python 3",
   "language": "python",
   "name": "python3"
  },
  "language_info": {
   "codemirror_mode": {
    "name": "ipython",
    "version": 3
   },
   "file_extension": ".py",
   "mimetype": "text/x-python",
   "name": "python",
   "nbconvert_exporter": "python",
   "pygments_lexer": "ipython3",
   "version": "3.5.5"
  }
 },
 "nbformat": 4,
 "nbformat_minor": 2
}
